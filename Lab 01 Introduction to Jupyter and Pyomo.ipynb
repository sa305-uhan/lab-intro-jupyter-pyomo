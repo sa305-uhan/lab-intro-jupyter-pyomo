{
 "cells": [
  {
   "cell_type": "markdown",
   "metadata": {},
   "source": [
    "**SA305 &#x25aa; Linear Programming &#x25aa; Spring 2021 &#x25aa; Uhan**"
   ]
  },
  {
   "cell_type": "markdown",
   "metadata": {},
   "source": [
    "# Lab 1. Introduction to Jupyter and Pyomo"
   ]
  },
  {
   "cell_type": "markdown",
   "metadata": {},
   "source": [
    "⚠️ In order to complete this lab, you need to have Pyomo and GLPK installed on your computer."
   ]
  },
  {
   "cell_type": "markdown",
   "metadata": {},
   "source": [
    "## In this lab..."
   ]
  },
  {
   "cell_type": "markdown",
   "metadata": {},
   "source": [
    "- What is Jupyter?\n",
    "\n",
    "\n",
    "- Basic Python syntax\n",
    "\n",
    "\n",
    "- Introduction to Pyomo\n",
    "\n",
    "\n",
    "- Your assignment"
   ]
  },
  {
   "cell_type": "markdown",
   "metadata": {},
   "source": [
    "<hr style=\"border-top: 1px solid gray;\"/>"
   ]
  },
  {
   "cell_type": "markdown",
   "metadata": {},
   "source": [
    "## What is Jupyter?"
   ]
  },
  {
   "cell_type": "markdown",
   "metadata": {},
   "source": [
    "- __Jupyter__ is an interactive computational environment where you can combine code, text and graphs in __notebooks__.\n",
    "\n",
    "\n",
    "- You're looking at a Jupyter notebook right now!\n",
    "\n",
    "\n",
    "- We'll be using Jupyter with __Pyomo__, a Python-based open-source opimization modeling language."
   ]
  },
  {
   "cell_type": "markdown",
   "metadata": {},
   "source": [
    "### Structure of a notebook"
   ]
  },
  {
   "cell_type": "markdown",
   "metadata": {},
   "source": [
    "- A notebook consists of a sequence of __cells__ of different types.\n",
    "\n",
    "\n",
    "- You can determine the type of a cell in the toolbar.\n",
    "\n",
    "\n",
    "- We'll primarily use *code cells* and *Markdown cells*.\n",
    "\n",
    "\n",
    "- You can **run a cell** by:\n",
    "    - clicking the <kbd><i class=\"fa fa-step-forward\" aria-hidden=\"true\"></i> Run</kbd> button in the tool bar,\n",
    "    - selecting __Cell &#8594; Run Cells__ in the menu bar,\n",
    "    - pressing <kbd>Shift</kbd>+<kbd>Enter</kbd>."
   ]
  },
  {
   "cell_type": "markdown",
   "metadata": {},
   "source": [
    "### Code cells"
   ]
  },
  {
   "cell_type": "markdown",
   "metadata": {},
   "source": [
    "- In a __code cell__, you can edit and write Python code.\n",
    "\n",
    "\n",
    "- For now, we can use a code cell as a fancy calculator.\n",
    "\n",
    "\n",
    "- For example, in the code cell below, let's compute\n",
    "$$ \\frac{2^{5} - 368}{23 + 18} $$"
   ]
  },
  {
   "cell_type": "code",
   "execution_count": null,
   "metadata": {},
   "outputs": [],
   "source": []
  },
  {
   "cell_type": "markdown",
   "metadata": {},
   "source": [
    "\n",
    "- Note that a code cell has \n",
    "    - an __input__ section containing your code, \n",
    "    - an __output__ section after executing the cell."
   ]
  },
  {
   "cell_type": "markdown",
   "metadata": {},
   "source": [
    "### Markdown cells"
   ]
  },
  {
   "cell_type": "markdown",
   "metadata": {},
   "source": [
    "- In a __Markdown cell__, you can enter text to write notes about your code and document your workflow.\n",
    "\n",
    "\n",
    "- For example, this cell is a Markdown cell.\n",
    "\n",
    "\n",
    "- The __Markdown__ language is a popular way to provide formatting (e.g. bold, italics, lists) to plain text. \n",
    "\n",
    "\n",
    "- For now, here are a few basic, useful Markdown constructs:\n",
    "\n",
    "```\n",
    "You can format text as italic with *asterisks* or _underscores_.\n",
    "\n",
    "You can format text as bold with **double asterisks** or __double underscores__.\n",
    "\n",
    "To write a bulleted list, use *, -, or + as bullets, like this:\n",
    "\n",
    "* One\n",
    "* Two\n",
    "* Three\n",
    "```\n",
    "\n",
    "- [Cheat sheet for Markdown syntax.](https://github.com/adam-p/markdown-here/wiki/Markdown-Cheatsheet)\n",
    "\n",
    "\n",
    "- To edit a Markdown cell, double-click it. When you're done editing it, run the cell. \n",
    "\n",
    "\n",
    "- Try it in the cell below:"
   ]
  },
  {
   "cell_type": "markdown",
   "metadata": {},
   "source": [
    "__*Double-click to edit this cell. Try out Markdown here.*__"
   ]
  },
  {
   "cell_type": "markdown",
   "metadata": {},
   "source": [
    "### Saving your notebook"
   ]
  },
  {
   "cell_type": "markdown",
   "metadata": {},
   "source": [
    "- Jupyter autosaves your notebook every few minutes.\n",
    "\n",
    "\n",
    "- To manually save, click the <kbd><i class=\"fa fa-floppy-o\"></i></kbd> icon in the toolbar, or select __File &#8594; Save and Checkpoint__.\n",
    "\n",
    "\n",
    "- To close the notebook, select __File &#8594; Close and Halt__.\n",
    "    - <span class=\"rred\">You should always close the notebook this way!</span>\n",
    "    - Just closing the tab/window will leave the notebook running in the background."
   ]
  },
  {
   "cell_type": "markdown",
   "metadata": {},
   "source": [
    "<hr style=\"border-top: 1px solid gray;\"/>"
   ]
  },
  {
   "cell_type": "markdown",
   "metadata": {},
   "source": [
    "## Basic Python syntax"
   ]
  },
  {
   "cell_type": "markdown",
   "metadata": {},
   "source": [
    "- Before we begin, there are a few things you should know about Python syntax.\n",
    "\n",
    "\n",
    "- We define **variables** in Python like this:"
   ]
  },
  {
   "cell_type": "code",
   "execution_count": null,
   "metadata": {},
   "outputs": [],
   "source": []
  },
  {
   "cell_type": "markdown",
   "metadata": {},
   "source": [
    "* We can print the value of variable with the `print()` function, like this:"
   ]
  },
  {
   "cell_type": "code",
   "execution_count": null,
   "metadata": {},
   "outputs": [],
   "source": []
  },
  {
   "cell_type": "markdown",
   "metadata": {},
   "source": [
    "- We can perform computations with variables representing numbers:"
   ]
  },
  {
   "cell_type": "code",
   "execution_count": null,
   "metadata": {},
   "outputs": [],
   "source": []
  },
  {
   "cell_type": "markdown",
   "metadata": {},
   "source": [
    "- Variables can represent different types of values, like numbers or *strings*.\n",
    "\n",
    "\n",
    "- **Strings** are sequences of printable characters, enclosed in single- or double-quotes:"
   ]
  },
  {
   "cell_type": "code",
   "execution_count": null,
   "metadata": {},
   "outputs": [],
   "source": []
  },
  {
   "cell_type": "markdown",
   "metadata": {},
   "source": [
    "- In general, statements in Python start on a new line.\n",
    "\n",
    "\n",
    "- Sometimes, we can make our code easier to read when we split it across multiple lines: Python will assume that the statement continues to the next line if it is contained within parentheses `( )`, like this:"
   ]
  },
  {
   "cell_type": "code",
   "execution_count": null,
   "metadata": {},
   "outputs": [],
   "source": [
    "area = (\n",
    "    length * \n",
    "    width\n",
    ")\n",
    "\n",
    "print(area)"
   ]
  },
  {
   "cell_type": "markdown",
   "metadata": {},
   "source": [
    "- If we want to insert the value of variable into a string, we can do so with an **f-string**, like this:"
   ]
  },
  {
   "cell_type": "code",
   "execution_count": null,
   "metadata": {},
   "outputs": [],
   "source": []
  },
  {
   "cell_type": "markdown",
   "metadata": {},
   "source": [
    "* Any code that comes after a hash mark `#` is a **comment**, which Python will ignore, like this:"
   ]
  },
  {
   "cell_type": "code",
   "execution_count": null,
   "metadata": {},
   "outputs": [],
   "source": [
    "# This code computes the area of a rectangle\n",
    "length = 5  # length of rectangle\n",
    "width = 4  # width of rectangle\n",
    "area = length * width  # area = length x width\n",
    "\n",
    "print(area)"
   ]
  },
  {
   "cell_type": "markdown",
   "metadata": {},
   "source": [
    "- Writing comments to describe what your code is doing is a good habit!"
   ]
  },
  {
   "cell_type": "markdown",
   "metadata": {},
   "source": [
    "<hr style=\"border-top: 1px solid gray;\"/>"
   ]
  },
  {
   "cell_type": "markdown",
   "metadata": {},
   "source": [
    "## Introduction to  Pyomo"
   ]
  },
  {
   "cell_type": "markdown",
   "metadata": {},
   "source": [
    "- __[Pyomo](http://www.pyomo.org/)__ is a Python-based, open-source optimization modeling language, developed at the Sandia National Laboratories.  \n",
    "\n",
    "\n",
    "- Pyomo is used at many academic institutions, government agencies, and businesses.\n",
    "\n",
    "\n",
    "- At the Naval Academy, Pyomo is used in this course, as well as SA405. Pyomo has also been a key tool in numerous OR capstone projects.\n",
    "\n",
    "\n",
    "- For this lab, we will walk through the building and solving an optimization model in Pyomo.\n",
    "\n",
    "\n",
    "- Then, you will build and solve another optimization model in Pyomo on your own."
   ]
  },
  {
   "cell_type": "markdown",
   "metadata": {},
   "source": [
    "### The Farmer Jones problem and model"
   ]
  },
  {
   "cell_type": "markdown",
   "metadata": {},
   "source": [
    "* Recall the Farmer Jones problem from Lesson 2:"
   ]
  },
  {
   "cell_type": "markdown",
   "metadata": {},
   "source": [
    "__Example (Rader Example 1.1, modified).__ Farmer Jones decides to supplement her income by baking and selling two types of cakes, chocolate and vanilla. Each chocolate cake sold gives a profit of \\\\$3, and the profit on each vanilla cake sold is \\\\$4. Each chocolate cake uses 4 eggs and 4 pounds of flour, while each vanilla cake uses 2 eggs and 6 pounds of flour. If Farmer Jones has only 32 eggs and 48 pounds of flour available, how many of each type of cake should Farmer Jones bake in order to maximize her profit? For now, assume all cakes baked are sold, and fractional cakes are OK."
   ]
  },
  {
   "cell_type": "markdown",
   "metadata": {},
   "source": [
    "- We came up with the following linear program to solve Farmer Jones's problem:"
   ]
  },
  {
   "cell_type": "markdown",
   "metadata": {},
   "source": [
    "Decision variables:\n",
    "\\begin{align*}\n",
    "C & = \\text{number of chocolate cakes to bake}\\\\\n",
    "V & = \\text{number of vanilla cakes to bake}\n",
    "\\end{align*}\n",
    "\n",
    "Objective function and constraints:\n",
    "\\begin{alignat*}{2}\n",
    "\\text{maximize} \\quad & 3 C + 4 V &\\qquad& \\text{(maximize profit)}\\\\\n",
    "\\text{subject to} \\quad & 4 C + 2 V \\le 32 &\\qquad& \\text{(eggs)}\\\\\n",
    "& 4 C + 6 V \\le 48 &\\qquad& \\text{(flour)}\\\\\n",
    "& C, V \\ge 0 &\\qquad& \\text{(nonnegativity)}\n",
    "\\end{alignat*}"
   ]
  },
  {
   "cell_type": "markdown",
   "metadata": {},
   "source": [
    "* We can construct and solve this model with Pyomo with the steps below."
   ]
  },
  {
   "cell_type": "markdown",
   "metadata": {},
   "source": [
    "### 1. Import Pyomo."
   ]
  },
  {
   "cell_type": "markdown",
   "metadata": {},
   "source": [
    "- We begin by importing the Pyomo library. Note that Python has *many* other libraries that you can import for additional functionality."
   ]
  },
  {
   "cell_type": "code",
   "execution_count": null,
   "metadata": {},
   "outputs": [],
   "source": []
  },
  {
   "cell_type": "markdown",
   "metadata": {},
   "source": [
    "### 2. Initialize a concrete model."
   ]
  },
  {
   "cell_type": "markdown",
   "metadata": {},
   "source": [
    "- Next, we initialize a __concrete model__ in the variable `model`. The variable `model` stores information about the model we will construct. Note that the variable doesn't have to be named `model`."
   ]
  },
  {
   "cell_type": "code",
   "execution_count": null,
   "metadata": {},
   "outputs": [],
   "source": []
  },
  {
   "cell_type": "markdown",
   "metadata": {},
   "source": [
    "- We can verify what type of model we have like this:"
   ]
  },
  {
   "cell_type": "code",
   "execution_count": null,
   "metadata": {},
   "outputs": [],
   "source": []
  },
  {
   "cell_type": "markdown",
   "metadata": {},
   "source": [
    "### 3. Define the decision variables and variable bounds."
   ]
  },
  {
   "cell_type": "markdown",
   "metadata": {},
   "source": [
    "* The model we want to construct in Pyomo has the following decision variables:\n",
    "\n",
    "\\begin{align*}\n",
    "C & = \\text{number of chocolate cakes to bake}\\\\\n",
    "V & = \\text{number of vanilla cakes to bake}\n",
    "\\end{align*}\n",
    "\n",
    "* The variable bounds are:\n",
    "\n",
    "$$\n",
    "C, V \\ge 0 \\qquad \\text{(nonnegativity)}\n",
    "$$\n",
    "\n",
    "* We can add these to our model in Pyomo as follows:"
   ]
  },
  {
   "cell_type": "code",
   "execution_count": null,
   "metadata": {},
   "outputs": [],
   "source": []
  },
  {
   "cell_type": "markdown",
   "metadata": {},
   "source": [
    "- The keyword argument `domain=...` sets the variable domain.\n",
    "\n",
    "\n",
    "- There are several pre-defined domains besides `NonNegativeReals`.  For example, `Binary` is another domain you will frequently encounter in SA405."
   ]
  },
  {
   "cell_type": "markdown",
   "metadata": {},
   "source": [
    "### 4. Define the objective function."
   ]
  },
  {
   "cell_type": "markdown",
   "metadata": {},
   "source": [
    "- The objective function we want to add to our model in Pyomo is:\n",
    "\n",
    "$$\n",
    "\\text{maximize} \\quad 3 C + 4 V \\qquad \\text{(maximize profit)}\\\\\n",
    "$$"
   ]
  },
  {
   "cell_type": "markdown",
   "metadata": {},
   "source": [
    "- We can do so like this:"
   ]
  },
  {
   "cell_type": "code",
   "execution_count": null,
   "metadata": {},
   "outputs": [],
   "source": []
  },
  {
   "cell_type": "markdown",
   "metadata": {},
   "source": [
    "- The code\n",
    "\n",
    "    ```python\n",
    "    def obj_rule(model):\n",
    "        return 3 * model.C + 4 * model.V\n",
    "    ```\n",
    "\n",
    "    defines a Python **function** called `obj_rule` that represents the objective function.\n",
    "\n",
    "\n",
    "- The next line of code\n",
    "\n",
    "    ```python\n",
    "    model.obj = pyo.Objective(rule=obj_rule, sense=pyo.maximize)\n",
    "    ```\n",
    "\n",
    "    adds the objective function `model.obj` to our model in Pyomo.\n",
    "    \n",
    "\n",
    "- Note that `obj_rule` and `model.obj` are names of our choosing."
   ]
  },
  {
   "cell_type": "markdown",
   "metadata": {},
   "source": [
    "- ⚠️ **Important!** When defining a function, indentation is important! The code\n",
    "    \n",
    "    ```python\n",
    "    def obj_rule(model):\n",
    "        return 3 * model.C + 4 * model.V\n",
    "    ```\n",
    "    \n",
    "    is NOT the same as\n",
    "    \n",
    "    ```python\n",
    "    def obj_rule(model):\n",
    "    return 3 * model.C + 4 * model.V\n",
    "    ``` \n",
    "    \n",
    "- Always use <kbd>Tab</kbd> to indent &mdash; this will make your indentation consistent."
   ]
  },
  {
   "cell_type": "markdown",
   "metadata": {},
   "source": [
    "### 5. Define the constraints."
   ]
  },
  {
   "cell_type": "markdown",
   "metadata": {},
   "source": [
    "- The constraint on eggs in our model is:\n",
    "\n",
    "    $$\n",
    "    4 C + 2 V \\le 32 \\qquad \\text{(eggs)}\n",
    "    $$\n",
    "\n",
    "\n",
    "- We can add this constraint to our model in Pyomo as follows:"
   ]
  },
  {
   "cell_type": "code",
   "execution_count": null,
   "metadata": {},
   "outputs": [],
   "source": []
  },
  {
   "cell_type": "markdown",
   "metadata": {},
   "source": [
    "- The constraint on flour is:\n",
    "    $$\n",
    "    4 C + 6 V \\le 48 \\qquad \\text{(flour)}\n",
    "    $$\n",
    "    \n",
    "- We can add this constraint to our model in Pyomo like this:"
   ]
  },
  {
   "cell_type": "code",
   "execution_count": null,
   "metadata": {},
   "outputs": [],
   "source": []
  },
  {
   "cell_type": "markdown",
   "metadata": {},
   "source": [
    "### 6. Solve the model."
   ]
  },
  {
   "cell_type": "markdown",
   "metadata": {},
   "source": [
    "- We solve our model using [GLPK](https://www.gnu.org/software/glpk/), an open-source optimization solver, and put the results into a variable called `result`, like this:"
   ]
  },
  {
   "cell_type": "code",
   "execution_count": null,
   "metadata": {},
   "outputs": [],
   "source": []
  },
  {
   "cell_type": "markdown",
   "metadata": {},
   "source": [
    "- The keyword argument `tee=True` in `solve()` above makes Pyomo show what the solver is doing as it solves the model."
   ]
  },
  {
   "cell_type": "markdown",
   "metadata": {},
   "source": [
    "### 7. Determine the status."
   ]
  },
  {
   "cell_type": "markdown",
   "metadata": {},
   "source": [
    "- In addtion to examining the output above, we can directly access the status of the solving process like this:"
   ]
  },
  {
   "cell_type": "code",
   "execution_count": null,
   "metadata": {},
   "outputs": [],
   "source": []
  },
  {
   "cell_type": "markdown",
   "metadata": {},
   "source": [
    "### 8. Print the optimal solution and its value if one exists."
   ]
  },
  {
   "cell_type": "markdown",
   "metadata": {},
   "source": [
    "- We can use an `if` statement to check if the solver terminated with an optimal solution.\n",
    "\n",
    "\n",
    "- We can print the optimal value and optimal solution as follows:"
   ]
  },
  {
   "cell_type": "code",
   "execution_count": null,
   "metadata": {},
   "outputs": [],
   "source": []
  },
  {
   "cell_type": "markdown",
   "metadata": {},
   "source": [
    "- ⚠️ **Important!** When writing an `if` statement, indentation is important! The code\n",
    "    \n",
    "    ```python\n",
    "    if result.solver.termination_condition == 'optimal':\n",
    "        print(f\"Optimal value: {pyo.value(model.obj)}\")\n",
    "        print(\"Optimal solution:\")\n",
    "        print(f\"  C: {pyo.value(model.C)}\")\n",
    "        print(f\"  V: {pyo.value(model.V)}\") \n",
    "    ```\n",
    "    \n",
    "    is NOT the same as\n",
    "    \n",
    "    ```python\n",
    "    if result.solver.termination_condition == 'optimal':\n",
    "    print(f\"Optimal value: {pyo.value(model.obj)}\")\n",
    "    print(\"Optimal solution:\")\n",
    "    print(f\"  C: {pyo.value(model.C)}\")\n",
    "    print(f\"  V: {pyo.value(model.V)}\") \n",
    "    ``` \n",
    "\n",
    "- You could also write a sentence describing the optimal value and solution:"
   ]
  },
  {
   "cell_type": "code",
   "execution_count": null,
   "metadata": {
    "scrolled": true
   },
   "outputs": [],
   "source": [
    "print(f'Farmer Jones should bake {pyo.value(model.C)} chocolate and '\n",
    "      f'{pyo.value(model.V)} vanilla cakes, '\n",
    "      f'generating a profit of {pyo.value(model.obj)}.')"
   ]
  },
  {
   "cell_type": "markdown",
   "metadata": {},
   "source": [
    "- Note that if you give `print()` multiple strings, it will automatically concatenate them."
   ]
  },
  {
   "cell_type": "markdown",
   "metadata": {},
   "source": [
    "<hr style=\"border-top: 1px solid gray;\"/>"
   ]
  },
  {
   "cell_type": "markdown",
   "metadata": {},
   "source": [
    "## Your assignment"
   ]
  },
  {
   "cell_type": "markdown",
   "metadata": {},
   "source": [
    "Recall Exercise 2.3 from Rader (the film packaging plant problem), assigned for homework. We can formulate this problem as a linear program as follows.\n",
    "\n",
    "We define the decision variables:\n",
    "\n",
    "\\begin{align*}\n",
    "t_1 & = \\mbox{square yard of 1mm film packaged},\\\\\n",
    "t_3 & = \\mbox{square yard of 3mm film packaged},\\\\\n",
    "t_5 & = \\mbox{square yard of 5mm film packaged},\\\\\n",
    "t_{0.5} & = \\mbox{square yard of 0.5mm film packaged}.\n",
    "\\end{align*}\n",
    "\n",
    "We also define some helpful constants:\n",
    "\n",
    "\\begin{align*}\n",
    "p_1 & = 110-(30+(5+8)(25/60)+9(35/60)),\\\\\n",
    "p_3 & = 90-(10+(4+7)(25/60)+5(35/60)),\\\\\n",
    "p_5 & = 60-(10+(4+5)(25/60)+4(35/60)),\\\\\n",
    "p_{0.5} & = 100-(20+(6+10)(25/60)+6(35/60)).\n",
    "\\end{align*}\n",
    "\n",
    "The objective function and constraints are:\n",
    "\n",
    "\\begin{array}{lll}\n",
    "\\max & p_1 t_1 + p_3 t_3 +\n",
    "    p_5 t_5 + p_{0.5}t_{0.5} & \\mbox{ (profit) }\\\\\n",
    "\\mbox{s.t.}& 5t_1 + 4 t_3 + 4 t_5 + 6 t_{0.5} \\leq 60\\cdot60 & \\mbox{ (machine 1) }\\\\\n",
    "& 8 t_1 + 7 t_3 + 5 t_5 + 10 t_{0.5} \\leq 60\\cdot60 & \\mbox{ (machine 2) }\\\\\n",
    "& 9 t_1 + 5 t_3 + 4 t_5 + 6 t_{0.5} \\leq 60\\cdot60 & \\mbox{ (machine 3) }\\\\\n",
    "& 0 \\le t_{1} \\le 400 & \\mbox{ (demand for 1mm, nonnegativity)}\\\\\n",
    "& 0 \\le t_{3} \\le 250 & \\mbox{ (demand for 3mm, nonnegativity)}\\\\\n",
    "& 0 \\le t_{5} \\le 200 & \\mbox{ (demand for 5mm, nonnegativity)}\\\\\n",
    "& 0 \\le t_{0.5} \\le 450 & \\mbox{ (demand for 0.5mm, nonnegativity)}\n",
    "\\end{array}\n",
    "\n",
    "⚠️ **Note that $p_1, p_3, p_5,$ and $p_{0.5}$ are not decision variables. They are constants.**"
   ]
  },
  {
   "cell_type": "markdown",
   "metadata": {},
   "source": [
    "Construct and solve this model in Pyomo by completing the tasks given below."
   ]
  },
  {
   "cell_type": "markdown",
   "metadata": {},
   "source": [
    "__1.__  Import the Pyomo library."
   ]
  },
  {
   "cell_type": "code",
   "execution_count": null,
   "metadata": {},
   "outputs": [],
   "source": []
  },
  {
   "cell_type": "markdown",
   "metadata": {},
   "source": [
    "__2.__ Initialize a concrete model named `model`."
   ]
  },
  {
   "cell_type": "code",
   "execution_count": null,
   "metadata": {},
   "outputs": [],
   "source": []
  },
  {
   "cell_type": "markdown",
   "metadata": {},
   "source": [
    "__3.__ Define the decision variables, $t_1$, $t_3$, $t_5$, and $t_{0.5}$ as `model.t1`, `model.t3`, `model.t5`, and `model.t05`, respectively.  Make sure you properly specify their domains and bounds.\n",
    "\n",
    "*Hint.* You can set the bounds of a variable by including the keyword argument `bounds=(a, b)` in `pyo.Var()`, where `a` and `b` are the lower and upper bounds, respectively."
   ]
  },
  {
   "cell_type": "code",
   "execution_count": null,
   "metadata": {},
   "outputs": [],
   "source": []
  },
  {
   "cell_type": "markdown",
   "metadata": {},
   "source": [
    "__4.__ Define four Python variables, `p1`, `p3`, `p5`, and `p05`, that represent the constants $p_1$, $p_3$, $p_5$, and $p_{0.5}$, respectively, in the above formulation."
   ]
  },
  {
   "cell_type": "code",
   "execution_count": null,
   "metadata": {},
   "outputs": [],
   "source": []
  },
  {
   "cell_type": "markdown",
   "metadata": {},
   "source": [
    "__5.__ Define the objective function as `model.obj`.  Make sure you specify the correct `sense`."
   ]
  },
  {
   "cell_type": "code",
   "execution_count": null,
   "metadata": {},
   "outputs": [],
   "source": []
  },
  {
   "cell_type": "markdown",
   "metadata": {},
   "source": [
    "__6.__ Define the three machine constraints as `model.machine1`, `model.machine2`, and `model.machine3`."
   ]
  },
  {
   "cell_type": "code",
   "execution_count": null,
   "metadata": {},
   "outputs": [],
   "source": []
  },
  {
   "cell_type": "markdown",
   "metadata": {},
   "source": [
    "__7.__ Solve the model and save the result as `result`."
   ]
  },
  {
   "cell_type": "code",
   "execution_count": null,
   "metadata": {},
   "outputs": [],
   "source": []
  },
  {
   "cell_type": "markdown",
   "metadata": {},
   "source": [
    "__8.__ Print the status of the solving process of the model."
   ]
  },
  {
   "cell_type": "code",
   "execution_count": null,
   "metadata": {},
   "outputs": [],
   "source": []
  },
  {
   "cell_type": "markdown",
   "metadata": {},
   "source": [
    "__9.__ If the solver terminated with an optimal solution, print the optimal solution and its value."
   ]
  },
  {
   "cell_type": "code",
   "execution_count": null,
   "metadata": {},
   "outputs": [],
   "source": []
  },
  {
   "cell_type": "markdown",
   "metadata": {},
   "source": [
    "<hr style=\"border-top: 1px solid gray;\"/>"
   ]
  },
  {
   "cell_type": "markdown",
   "metadata": {},
   "source": [
    "## When you're finished"
   ]
  },
  {
   "cell_type": "markdown",
   "metadata": {},
   "source": [
    "- Make sure your notebook runs from top to bottom with no errors. One way to accomplish this is to click on __Kernel &#8594; Restart & Run All__. This will restart Python, and run your notebook from top to bottom."
   ]
  },
  {
   "cell_type": "markdown",
   "metadata": {},
   "source": [
    "<hr style=\"border-top: 1px solid gray;\"/>"
   ]
  },
  {
   "cell_type": "markdown",
   "metadata": {},
   "source": [
    "## Grading"
   ]
  },
  {
   "cell_type": "markdown",
   "metadata": {},
   "source": [
    "| Problem | Weight |\n",
    "| - | - |\n",
    "| 1 | 0.5 |\n",
    "| 2 | 0.5 |\n",
    "| 3 | 2 |\n",
    "| 4 | 2 |\n",
    "| 5 | 2 |\n",
    "| 6 | 6 |\n",
    "| 7 | 1 |\n",
    "| 8 | 1 |\n",
    "| 9 | 1 |\n",
    "| __Total__ | __160 points__ |"
   ]
  }
 ],
 "metadata": {
  "kernelspec": {
   "display_name": "Python 3",
   "language": "python",
   "name": "python3"
  },
  "language_info": {
   "codemirror_mode": {
    "name": "ipython",
    "version": 3
   },
   "file_extension": ".py",
   "mimetype": "text/x-python",
   "name": "python",
   "nbconvert_exporter": "python",
   "pygments_lexer": "ipython3",
   "version": "3.7.6"
  }
 },
 "nbformat": 4,
 "nbformat_minor": 2
}
